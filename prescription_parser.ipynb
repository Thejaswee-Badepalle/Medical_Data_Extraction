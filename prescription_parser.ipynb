{
 "cells": [
  {
   "cell_type": "code",
   "execution_count": 9,
   "id": "8dfc4bee",
   "metadata": {},
   "outputs": [],
   "source": [
    "from pdf2image import convert_from_path"
   ]
  },
  {
   "cell_type": "markdown",
   "id": "0bb964a2",
   "metadata": {},
   "source": [
    "### Converting pdf into pages"
   ]
  },
  {
   "cell_type": "code",
   "execution_count": 10,
   "id": "d14b6786",
   "metadata": {},
   "outputs": [
    {
     "data": {
      "text/plain": [
       "[<PIL.PpmImagePlugin.PpmImageFile image mode=RGB size=1700x2200 at 0x22A525942E0>]"
      ]
     },
     "execution_count": 10,
     "metadata": {},
     "output_type": "execute_result"
    }
   ],
   "source": [
    "pages= convert_from_path(r'docs\\prescription\\pre_1.pdf', poppler_path = r'C:\\poppler-23.07.0\\Library\\bin')\n",
    "pages"
   ]
  },
  {
   "cell_type": "markdown",
   "id": "0e05bdb2",
   "metadata": {},
   "source": [
    "#### PIL is the popular python module that allows us to do image processing"
   ]
  },
  {
   "cell_type": "code",
   "execution_count": 11,
   "id": "a60c6925",
   "metadata": {},
   "outputs": [
    {
     "data": {
      "text/plain": [
       "1"
      ]
     },
     "execution_count": 11,
     "metadata": {},
     "output_type": "execute_result"
    }
   ],
   "source": [
    "len(pages)"
   ]
  },
  {
   "cell_type": "markdown",
   "id": "98c80700",
   "metadata": {},
   "source": [
    "### Opening the particular page"
   ]
  },
  {
   "cell_type": "code",
   "execution_count": 12,
   "id": "0ffcce84",
   "metadata": {},
   "outputs": [],
   "source": [
    "pages[0].show()"
   ]
  },
  {
   "cell_type": "markdown",
   "id": "1226b638",
   "metadata": {},
   "source": [
    "#### pytesseract is the python module to extract the text from an image"
   ]
  },
  {
   "cell_type": "code",
   "execution_count": 13,
   "id": "605d86b6",
   "metadata": {},
   "outputs": [],
   "source": [
    "import pytesseract"
   ]
  },
  {
   "cell_type": "markdown",
   "id": "84d8f80b",
   "metadata": {},
   "source": [
    "### Straight extract of text from an image using pytesseract"
   ]
  },
  {
   "cell_type": "code",
   "execution_count": 14,
   "id": "047d7368",
   "metadata": {},
   "outputs": [
    {
     "name": "stdout",
     "output_type": "stream",
     "text": [
      "Dr John Smith, M.D\n",
      "2 Non-Important Street,\n",
      "New York, Phone (000)-111-2222\n",
      "\n",
      "Name: Maria Sharapova Date: 5/11/2022\n",
      "\n",
      "Address: 9 tennis court, new Russia, DC\n",
      "\n",
      "—moemenmannenneneneunmnnnnennieesisiyoinnitniahadaaanniihsnseneneneeeernnttnnneenrenen:\n",
      "\n",
      "Prednisone 20 mg\n",
      "Lialda 2.4 gram\n",
      "\n",
      "3 days,\n",
      "\n",
      "or 1 month\n"
     ]
    }
   ],
   "source": [
    "pytesseract.pytesseract.tesseract_cmd=r'C:\\Program Files\\Tesseract-OCR\\tesseract.exe'\n",
    "text = pytesseract.image_to_string(pages[0], lang='eng')\n",
    "print(text)"
   ]
  },
  {
   "cell_type": "markdown",
   "id": "f4ed7664",
   "metadata": {},
   "source": [
    "###### It is sucessfully converted the image into a text now. But this text is not perfect. One thing is that, OCR is not going to be perfect and it will output lot of garbage and we have to deal with it. In the image whatever the thing in dark we couldn't get that. This means, we cannot directly apply tesseract on this image because the image is kind of bad. So, we need to some preprocessing on top of it using computer vision. OpenCV is the popular Framework for doing computer vision. So, we will use that. We will do some processing on the image and then we will execute this code once we have that processed image."
   ]
  },
  {
   "cell_type": "markdown",
   "id": "842ff272",
   "metadata": {},
   "source": [
    "### Applying Adaptive thresholding technique."
   ]
  },
  {
   "cell_type": "markdown",
   "id": "221aadca",
   "metadata": {},
   "source": [
    "#### Adaptive thresholding is a technique in computer vision to overcome unclear image issues"
   ]
  },
  {
   "cell_type": "code",
   "execution_count": 15,
   "id": "599f9fa2",
   "metadata": {},
   "outputs": [],
   "source": [
    "import cv2     # Importing OpenCV library to pre-process image\n",
    "from PIL import Image\n",
    "import numpy as np\n",
    "def preprocess_image(img):\n",
    "    gray =  cv2.cvtColor(np.array(img), cv2.COLOR_BGR2GRAY)\n",
    "    resized = cv2.resize(gray, None, fx = 1.5, fy = 1.5)\n",
    "    processed_image = cv2.adaptiveThreshold(\n",
    "        resized,\n",
    "        255,\n",
    "        cv2.ADAPTIVE_THRESH_GAUSSIAN_C,\n",
    "        cv2.THRESH_BINARY,\n",
    "        61,\n",
    "        11\n",
    "    )\n",
    "    return processed_image\n",
    "\n",
    "# Here we have done 3 steps:\n",
    "# 1. we converted our image from colorful image to gray.\n",
    "# 2. we resize it. we make it little bigger, so that we can see better \n",
    "# 3. Then, we applied adaptive thresholding. "
   ]
  },
  {
   "cell_type": "markdown",
   "id": "b4f41422",
   "metadata": {},
   "source": [
    "#### Calling the function and displaying an image"
   ]
  },
  {
   "cell_type": "code",
   "execution_count": 16,
   "id": "adb3fcd6",
   "metadata": {},
   "outputs": [],
   "source": [
    "img = preprocess_image(pages[0])\n",
    "Image.fromarray(img).show()"
   ]
  },
  {
   "cell_type": "markdown",
   "id": "234f57c2",
   "metadata": {},
   "source": [
    "#### Now, we got image. our image is post-processed. It is better looking image."
   ]
  },
  {
   "cell_type": "markdown",
   "id": "885866ae",
   "metadata": {},
   "source": [
    "### Applying Pytesseract on the processed image for better text"
   ]
  },
  {
   "cell_type": "code",
   "execution_count": 17,
   "id": "2a50dd2f",
   "metadata": {},
   "outputs": [
    {
     "name": "stdout",
     "output_type": "stream",
     "text": [
      "Dr John Smith, M.D\n",
      "2 Non-Important Street,\n",
      "New York, Phone (000)-111-2222\n",
      "\n",
      "Name: Marta Sharapova Date: 5/11/2022\n",
      "\n",
      "Address: 9 tennis court, new Russia, DC\n",
      "\n",
      "K\n",
      "\n",
      "Prednisone 20 mg\n",
      "Lialda 2.4 gram\n",
      "\n",
      "Directions:\n",
      "\n",
      "Prednisone, Taper 5 mig every 3 days,\n",
      "Finish in 2.5 weeks a\n",
      "Lialda - take 2 pill everyday for 1 month\n",
      "\n",
      "Refill: 2 times\n"
     ]
    }
   ],
   "source": [
    "pytesseract.pytesseract.tesseract_cmd=r'C:\\Program Files\\Tesseract-OCR\\tesseract.exe'\n",
    "text = pytesseract.image_to_string(img, lang='eng')\n",
    "print(text)"
   ]
  },
  {
   "cell_type": "markdown",
   "id": "147dd976",
   "metadata": {},
   "source": [
    "### Extract required information from Prescription"
   ]
  },
  {
   "cell_type": "code",
   "execution_count": 18,
   "id": "7b0d1386",
   "metadata": {},
   "outputs": [],
   "source": [
    "text = '''\n",
    "Dr John Smith, M.D\n",
    "2 Non-Important Street,\n",
    "New York, Phone (000)-111-2222\n",
    "\n",
    "Name: Marta Sharapova Date: 5/11/2022\n",
    "\n",
    "Address: 9 tennis court, new Russia, DC\n",
    "\n",
    "\n",
    "\n",
    "Prednisone 20 mg\n",
    "Lialda 2.4 gram\n",
    "\n",
    "Directions:\n",
    "\n",
    "Prednisone, Taper 5 mig every 3 days,\n",
    "Finish in 2.5 weeks a\n",
    "Lialda - take 2 pill everyday for 1 month\n",
    "\n",
    "Refill: 2 times\n",
    "'''"
   ]
  },
  {
   "cell_type": "markdown",
   "id": "bf30dd42",
   "metadata": {},
   "source": [
    "### Extracting Name "
   ]
  },
  {
   "cell_type": "code",
   "execution_count": 19,
   "id": "88220365",
   "metadata": {},
   "outputs": [
    {
     "data": {
      "text/plain": [
       "[' Marta Sharapova ']"
      ]
     },
     "execution_count": 19,
     "metadata": {},
     "output_type": "execute_result"
    }
   ],
   "source": [
    "import re\n",
    "\n",
    "pattern = \"Name:(.*)Date\"\n",
    "\n",
    "match = re.findall(pattern, text)\n",
    "match"
   ]
  },
  {
   "cell_type": "code",
   "execution_count": 20,
   "id": "4520d35d",
   "metadata": {},
   "outputs": [
    {
     "data": {
      "text/plain": [
       "'Marta Sharapova'"
      ]
     },
     "execution_count": 20,
     "metadata": {},
     "output_type": "execute_result"
    }
   ],
   "source": [
    "pattern = \"Name:(.*)Date\"\n",
    "\n",
    "match = re.findall(pattern, text)\n",
    "match[0].strip()"
   ]
  },
  {
   "cell_type": "markdown",
   "id": "4b0fdd84",
   "metadata": {},
   "source": [
    "### Extracting Address"
   ]
  },
  {
   "cell_type": "code",
   "execution_count": 21,
   "id": "a9020e5a",
   "metadata": {},
   "outputs": [
    {
     "data": {
      "text/plain": [
       "'9 tennis court, new Russia, DC'"
      ]
     },
     "execution_count": 21,
     "metadata": {},
     "output_type": "execute_result"
    }
   ],
   "source": [
    "pattern = \"Address:(.*)\\n\"\n",
    "match = re.findall(pattern, text)\n",
    "match[0].strip()"
   ]
  },
  {
   "cell_type": "markdown",
   "id": "7408f258",
   "metadata": {},
   "source": [
    "### Extracting Medicines"
   ]
  },
  {
   "cell_type": "code",
   "execution_count": 22,
   "id": "ee3aac0a",
   "metadata": {},
   "outputs": [
    {
     "data": {
      "text/plain": [
       "'Prednisone 20 mg\\nLialda 2.4 gram'"
      ]
     },
     "execution_count": 22,
     "metadata": {},
     "output_type": "execute_result"
    }
   ],
   "source": [
    "pattern = \"Address:[^\\n]*(.*)Directions\"\n",
    "match = re.findall(pattern, text, flags = re.DOTALL)\n",
    "match[0].strip()"
   ]
  },
  {
   "cell_type": "code",
   "execution_count": 23,
   "id": "407b9654",
   "metadata": {
    "scrolled": true
   },
   "outputs": [
    {
     "name": "stdout",
     "output_type": "stream",
     "text": [
      "Prednisone 20 mg\n",
      "Lialda 2.4 gram\n"
     ]
    }
   ],
   "source": [
    "pattern = \"Address:[^\\n]*(.*)Directions\"\n",
    "match = re.findall(pattern, text, flags = re.DOTALL)\n",
    "print(match[0].strip())"
   ]
  },
  {
   "cell_type": "markdown",
   "id": "9ce60a60",
   "metadata": {},
   "source": [
    "### Extracting Directions"
   ]
  },
  {
   "cell_type": "code",
   "execution_count": 24,
   "id": "45a2705b",
   "metadata": {},
   "outputs": [
    {
     "name": "stdout",
     "output_type": "stream",
     "text": [
      "Prednisone, Taper 5 mig every 3 days,\n",
      "Finish in 2.5 weeks a\n",
      "Lialda - take 2 pill everyday for 1 month\n"
     ]
    }
   ],
   "source": [
    "pattern = \"Directions:(.*)Refill\"\n",
    "\n",
    "match = re.findall(pattern, text, flags = re.DOTALL)\n",
    "print(match[0].strip())"
   ]
  },
  {
   "cell_type": "markdown",
   "id": "78e23ac4",
   "metadata": {},
   "source": [
    "### Extracting Refill"
   ]
  },
  {
   "cell_type": "code",
   "execution_count": 25,
   "id": "ef9432a3",
   "metadata": {},
   "outputs": [
    {
     "name": "stdout",
     "output_type": "stream",
     "text": [
      "2\n"
     ]
    }
   ],
   "source": [
    "pattern = \"Refill:(.*)times\"\n",
    "\n",
    "match = re.findall(pattern, text)\n",
    "print(match[0].strip())"
   ]
  }
 ],
 "metadata": {
  "kernelspec": {
   "display_name": "Python 3 (ipykernel)",
   "language": "python",
   "name": "python3"
  },
  "language_info": {
   "codemirror_mode": {
    "name": "ipython",
    "version": 3
   },
   "file_extension": ".py",
   "mimetype": "text/x-python",
   "name": "python",
   "nbconvert_exporter": "python",
   "pygments_lexer": "ipython3",
   "version": "3.8.10"
  }
 },
 "nbformat": 4,
 "nbformat_minor": 5
}
