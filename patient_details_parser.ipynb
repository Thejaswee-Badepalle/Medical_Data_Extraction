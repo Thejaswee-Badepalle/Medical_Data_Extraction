{
 "cells": [
  {
   "cell_type": "code",
   "execution_count": 103,
   "id": "2cb02b5a",
   "metadata": {},
   "outputs": [],
   "source": [
    "from pdf2image import convert_from_path"
   ]
  },
  {
   "cell_type": "markdown",
   "id": "c56e8416",
   "metadata": {},
   "source": [
    "### Converting pdf into pages"
   ]
  },
  {
   "cell_type": "code",
   "execution_count": 104,
   "id": "1a954a98",
   "metadata": {
    "scrolled": true
   },
   "outputs": [
    {
     "data": {
      "text/plain": [
       "[<PIL.PpmImagePlugin.PpmImageFile image mode=RGB size=1867x2000 at 0x26904F572E0>,\n",
       " <PIL.PpmImagePlugin.PpmImageFile image mode=RGB size=2000x1398 at 0x26904F570D0>]"
      ]
     },
     "execution_count": 104,
     "metadata": {},
     "output_type": "execute_result"
    }
   ],
   "source": [
    "pages= convert_from_path(r'docs\\patient_details\\pd_1.pdf', poppler_path = r'C:\\poppler-23.07.0\\Library\\bin')\n",
    "pages"
   ]
  },
  {
   "cell_type": "markdown",
   "id": "af1ef51e",
   "metadata": {},
   "source": [
    "#### PIL is the popular python module that allows us to do image processing"
   ]
  },
  {
   "cell_type": "code",
   "execution_count": 105,
   "id": "27ea331b",
   "metadata": {
    "scrolled": true
   },
   "outputs": [
    {
     "data": {
      "text/plain": [
       "2"
      ]
     },
     "execution_count": 105,
     "metadata": {},
     "output_type": "execute_result"
    }
   ],
   "source": [
    "len(pages)"
   ]
  },
  {
   "cell_type": "markdown",
   "id": "5d31551f",
   "metadata": {},
   "source": [
    "### Opening the particular page"
   ]
  },
  {
   "cell_type": "code",
   "execution_count": 106,
   "id": "3491db5d",
   "metadata": {},
   "outputs": [],
   "source": [
    "pages[0].show()"
   ]
  },
  {
   "cell_type": "markdown",
   "id": "03a0ee67",
   "metadata": {},
   "source": [
    "#### pytesseract is the python module to extract the text from an image"
   ]
  },
  {
   "cell_type": "code",
   "execution_count": 107,
   "id": "e6e49685",
   "metadata": {},
   "outputs": [],
   "source": [
    "import pytesseract"
   ]
  },
  {
   "cell_type": "markdown",
   "id": "6de872b1",
   "metadata": {},
   "source": [
    "### Straight extract of text from an image using pytesseract"
   ]
  },
  {
   "cell_type": "code",
   "execution_count": 108,
   "id": "a6601f20",
   "metadata": {
    "scrolled": true
   },
   "outputs": [
    {
     "name": "stdout",
     "output_type": "stream",
     "text": [
      "47/12/2020\n",
      "\n",
      "Patient Medical Record\n",
      "\n",
      "Patient Information Birth Date\n",
      "Kathy Crawford May 6 1972\n",
      "(737) 988-0851 Weight\n",
      "9264 Ash Dr 95\n",
      "New York City, 10005 .\n",
      "United States Height:\n",
      "190\n",
      "In Case of Emergency\n",
      "m _ a _\n",
      "Simeone Crawford 9266 Ash Dr\n",
      "New York City, New York, 10005\n",
      "Home phone United States\n",
      "(990) 375-4621\n",
      "Work phone\n",
      "Genera! Medical History\n",
      ". : a ee\n",
      "\n",
      "Chicken Pox (Varicella):\n",
      "\n",
      "IMMUNE\n",
      "\n",
      "Have you had the Hepatitis B vaccination?\n",
      "\n",
      "No\n",
      "\n",
      "List any Medical Problems (asthma, seizures, headaches):\n",
      "\n",
      "Migraine\n"
     ]
    }
   ],
   "source": [
    "pytesseract.pytesseract.tesseract_cmd=r'C:\\Program Files\\Tesseract-OCR\\tesseract.exe'\n",
    "text = pytesseract.image_to_string(pages[0], lang='eng')\n",
    "print(text)"
   ]
  },
  {
   "cell_type": "markdown",
   "id": "be7f2c30",
   "metadata": {},
   "source": [
    "###### It is sucessfully converted the image into a text now. But this text is not perfect. One thing is that, OCR is not going to be perfect and it will output lot of garbage and we have to deal with it. In the image whatever the thing in dark we couldn't get that. This means, we cannot directly apply tesseract on this image because the image is kind of bad. So, we need to some preprocessing on top of it using computer vision. OpenCV is the popular Framework for doing computer vision. So, we will use that. We will do some processing on the image and then we will execute this code once we have that processed image."
   ]
  },
  {
   "cell_type": "markdown",
   "id": "e4582d8e",
   "metadata": {},
   "source": [
    "### Applying Adaptive thresholding technique."
   ]
  },
  {
   "cell_type": "markdown",
   "id": "3c483a15",
   "metadata": {},
   "source": [
    "#### Adaptive thresholding is a technique in computer vision to overcome unclear image issues"
   ]
  },
  {
   "cell_type": "code",
   "execution_count": 109,
   "id": "e91315e0",
   "metadata": {},
   "outputs": [],
   "source": [
    "import cv2\n",
    "from PIL import Image\n",
    "import numpy as np  \n",
    "def preprocess_image(img):\n",
    "    gray =  cv2.cvtColor(np.array(img), cv2.COLOR_BGR2GRAY)\n",
    "    resized = cv2.resize(gray, None, fx = 1.5, fy = 1.5 )\n",
    "    processed_image = cv2.adaptiveThreshold(\n",
    "        resized,\n",
    "        255,\n",
    "        cv2.ADAPTIVE_THRESH_GAUSSIAN_C,\n",
    "        cv2.THRESH_BINARY,\n",
    "        61,\n",
    "        11\n",
    "    )\n",
    "    return processed_image"
   ]
  },
  {
   "cell_type": "markdown",
   "id": "64c091c6",
   "metadata": {},
   "source": [
    "#### Calling the function and displaying an image"
   ]
  },
  {
   "cell_type": "code",
   "execution_count": 51,
   "id": "d109122f",
   "metadata": {},
   "outputs": [],
   "source": [
    "img = preprocess_image(pages[0])\n",
    "Image.fromarray(img).show()"
   ]
  },
  {
   "cell_type": "markdown",
   "id": "a992dbbf",
   "metadata": {},
   "source": [
    "#### Now, we got image. our image is post-processed. It is better looking image."
   ]
  },
  {
   "cell_type": "markdown",
   "id": "36d176fa",
   "metadata": {},
   "source": [
    "### Applying Pytesseract on the processed image for better text"
   ]
  },
  {
   "cell_type": "code",
   "execution_count": 110,
   "id": "b6a51e23",
   "metadata": {},
   "outputs": [
    {
     "name": "stdout",
     "output_type": "stream",
     "text": [
      "17/12/2020\n",
      "\n",
      "Patient Medical Record\n",
      "\n",
      "Patient Information Birth Date\n",
      "\n",
      "Kathy Crawford May 6 1972\n",
      "\n",
      "(737) 988-0851 Weight’\n",
      "\n",
      "9264 Ash Dr 95\n",
      "\n",
      "New York City, 10005 '\n",
      "\n",
      "United States Height:\n",
      "190\n",
      "\n",
      "In Case of Emergency\n",
      "ee J\n",
      "Simeone Crawford 9266 Ash Dr\n",
      "New York City, New York, 10005\n",
      "Home phone United States\n",
      "(990) 375-4621\n",
      "Work phone\n",
      "Genera! Medical History\n",
      "nn i\n",
      "Chicken Pox (Varicella): Measies:\n",
      "IMMUNE\n",
      "\n",
      "IMMUNE\n",
      "Have you had the Hepatitis B vaccination?\n",
      "\n",
      "No\n",
      "\n",
      "List any Medical Problems (asthma, seizures, headaches}:\n",
      "\n",
      "Migraine\n"
     ]
    }
   ],
   "source": [
    "pytesseract.pytesseract.tesseract_cmd=r'C:\\Program Files\\Tesseract-OCR\\tesseract.exe'\n",
    "text = pytesseract.image_to_string(img, lang='eng')\n",
    "print(text)"
   ]
  },
  {
   "cell_type": "markdown",
   "id": "46c5b696",
   "metadata": {},
   "source": [
    "### Extract required information from Patient Details"
   ]
  },
  {
   "cell_type": "code",
   "execution_count": 111,
   "id": "d0736972",
   "metadata": {},
   "outputs": [],
   "source": [
    "text = '''\n",
    "    Patient Medical Record . : :\n",
    "\n",
    "    Patient Information\n",
    "\n",
    "\n",
    "    Birth Date\n",
    "    Kathy Crawford May 6 1972\n",
    "    (737) 988-0851 Weight:\n",
    "    9264 Ash Dr 95\n",
    "    New York City, 10005 a\n",
    "    United States Height:\n",
    "    190\n",
    "    In Case of Emergency\n",
    "    ee oe\n",
    "    Simeone Crawford 9266 Ash Dr\n",
    "    New York City, New York, 10005\n",
    "    Home phone United States\n",
    "    (990) 375-4621\n",
    "    Work phone\n",
    "    Genera! Medical History\n",
    "    I i\n",
    "    Chicken Pox (Varicella): Measies:\n",
    "    IMMUNE IMMUNE\n",
    "\n",
    "    Have you had the Hepatitis B vaccination?\n",
    "\n",
    "    No\n",
    "\n",
    "    List any Medical Problems (asthma, seizures, headaches):\n",
    "\n",
    "    Migraine\n",
    "    '''"
   ]
  },
  {
   "cell_type": "markdown",
   "id": "3a9d8707",
   "metadata": {},
   "source": [
    "### Extract Name"
   ]
  },
  {
   "cell_type": "code",
   "execution_count": 112,
   "id": "f5689be3",
   "metadata": {},
   "outputs": [
    {
     "data": {
      "text/plain": [
       "['\\n\\n\\n    Birth Date\\n    Kathy Crawford May 6 1972\\n    ']"
      ]
     },
     "execution_count": 112,
     "metadata": {},
     "output_type": "execute_result"
    }
   ],
   "source": [
    "import re\n",
    "# ? gives minimum number of matches\n",
    "pattern = \"Patient Information(.*?)\\(\\d{3}\\)\"\n",
    "matches = re.findall(pattern, text, flags = re.DOTALL)\n",
    "matches"
   ]
  },
  {
   "cell_type": "code",
   "execution_count": 113,
   "id": "62f12162",
   "metadata": {},
   "outputs": [
    {
     "data": {
      "text/plain": [
       "'Birth Date\\n    Kathy Crawford May 6 1972'"
      ]
     },
     "execution_count": 113,
     "metadata": {},
     "output_type": "execute_result"
    }
   ],
   "source": [
    "# strip replaces leading and trailing white spaces\n",
    "matches[0].strip()"
   ]
  },
  {
   "cell_type": "code",
   "execution_count": 114,
   "id": "6a6b540b",
   "metadata": {},
   "outputs": [
    {
     "data": {
      "text/plain": [
       "'Kathy Crawford May 6 1972'"
      ]
     },
     "execution_count": 114,
     "metadata": {},
     "output_type": "execute_result"
    }
   ],
   "source": [
    "match = matches[0].replace(\"Birth Date\", \"\").strip()\n",
    "match"
   ]
  },
  {
   "cell_type": "code",
   "execution_count": 115,
   "id": "651a6310",
   "metadata": {},
   "outputs": [
    {
     "data": {
      "text/plain": [
       "[('May 6 1972', 'May')]"
      ]
     },
     "execution_count": 115,
     "metadata": {},
     "output_type": "execute_result"
    }
   ],
   "source": [
    "date_pattern = \"((Jan|Feb|March|April|May|June|July|Aug|Sep|Oct|Nov|Dec)[ \\d]+)\"\n",
    "date_matches = re.findall(date_pattern, match)\n",
    "date_matches"
   ]
  },
  {
   "cell_type": "code",
   "execution_count": 116,
   "id": "f1a78318",
   "metadata": {
    "scrolled": true
   },
   "outputs": [
    {
     "data": {
      "text/plain": [
       "'May 6 1972'"
      ]
     },
     "execution_count": 116,
     "metadata": {},
     "output_type": "execute_result"
    }
   ],
   "source": [
    "date = date_matches[0][0]\n",
    "date"
   ]
  },
  {
   "cell_type": "code",
   "execution_count": 117,
   "id": "cffd3eed",
   "metadata": {},
   "outputs": [
    {
     "data": {
      "text/plain": [
       "'Kathy Crawford'"
      ]
     },
     "execution_count": 117,
     "metadata": {},
     "output_type": "execute_result"
    }
   ],
   "source": [
    "match.replace(date, \"\").strip()"
   ]
  },
  {
   "cell_type": "code",
   "execution_count": 118,
   "id": "5af41b8f",
   "metadata": {},
   "outputs": [],
   "source": [
    "def remove_noise_from_name(name):\n",
    "    name = name.replace(\"Birth Date\", \"\").strip()\n",
    "    date_pattern = \"((Jan|Feb|March|April|May|June|July|Aug|Sep|Oct|Nov|Dec)[ \\d]+)\"\n",
    "    date_matches = re.findall(date_pattern, name)\n",
    "    \n",
    "    if date_matches:\n",
    "        date = date_matches[0][0]\n",
    "        name = name.replace(date, \"\").strip()\n",
    "    return name  "
   ]
  },
  {
   "cell_type": "code",
   "execution_count": 119,
   "id": "64c3a89e",
   "metadata": {},
   "outputs": [
    {
     "data": {
      "text/plain": [
       "'Kathy Crawford'"
      ]
     },
     "execution_count": 119,
     "metadata": {},
     "output_type": "execute_result"
    }
   ],
   "source": [
    "name = ' Birth Date\\n\\nKathy Crawford May 6 1972\\n\\n'\n",
    "name = remove_noise_from_name(name)\n",
    "name"
   ]
  },
  {
   "cell_type": "markdown",
   "id": "2630e7cb",
   "metadata": {},
   "source": [
    "### Extract Phone"
   ]
  },
  {
   "cell_type": "code",
   "execution_count": 120,
   "id": "eadef8be",
   "metadata": {},
   "outputs": [
    {
     "data": {
      "text/plain": [
       "[('\\n\\n\\n    Birth Date\\n    Kathy Crawford May 6 1972\\n    ',\n",
       "  '(737) 988-0851')]"
      ]
     },
     "execution_count": 120,
     "metadata": {},
     "output_type": "execute_result"
    }
   ],
   "source": [
    "pattern = \"Patient Information(.*?)(\\(\\d{3}\\) \\d{3}-\\d{4})\"\n",
    "matches = re.findall(pattern, text, flags = re.DOTALL)\n",
    "matches"
   ]
  },
  {
   "cell_type": "code",
   "execution_count": 121,
   "id": "45e2c460",
   "metadata": {},
   "outputs": [
    {
     "data": {
      "text/plain": [
       "'(737) 988-0851'"
      ]
     },
     "execution_count": 121,
     "metadata": {},
     "output_type": "execute_result"
    }
   ],
   "source": [
    "matches[0][1]"
   ]
  },
  {
   "cell_type": "markdown",
   "id": "b857e7e3",
   "metadata": {},
   "source": [
    "### Extract Vaccinne"
   ]
  },
  {
   "cell_type": "code",
   "execution_count": 122,
   "id": "220dbe57",
   "metadata": {},
   "outputs": [
    {
     "data": {
      "text/plain": [
       "['No']"
      ]
     },
     "execution_count": 122,
     "metadata": {},
     "output_type": "execute_result"
    }
   ],
   "source": [
    "pattern = \"Have you had the Hepatitis B vaccination\\?.*(yes|No)\"\n",
    "matches = re.findall(pattern, text, flags = re.DOTALL)\n",
    "matches"
   ]
  },
  {
   "cell_type": "code",
   "execution_count": 123,
   "id": "614c8771",
   "metadata": {
    "scrolled": true
   },
   "outputs": [
    {
     "data": {
      "text/plain": [
       "'No'"
      ]
     },
     "execution_count": 123,
     "metadata": {},
     "output_type": "execute_result"
    }
   ],
   "source": [
    "matches[0].strip()"
   ]
  },
  {
   "cell_type": "markdown",
   "id": "79a3888b",
   "metadata": {},
   "source": [
    "### Extract Medical Problems"
   ]
  },
  {
   "cell_type": "code",
   "execution_count": 124,
   "id": "57899403",
   "metadata": {},
   "outputs": [
    {
     "data": {
      "text/plain": [
       "['\\n\\n    Migraine\\n    ']"
      ]
     },
     "execution_count": 124,
     "metadata": {},
     "output_type": "execute_result"
    }
   ],
   "source": [
    "pattern = \"List any Medical Problems \\(asthma, seizures, headaches\\):(.*)\"\n",
    "matches = re.findall(pattern, text, flags = re.DOTALL)\n",
    "matches"
   ]
  },
  {
   "cell_type": "code",
   "execution_count": 125,
   "id": "bf8fae57",
   "metadata": {},
   "outputs": [
    {
     "data": {
      "text/plain": [
       "'Migraine'"
      ]
     },
     "execution_count": 125,
     "metadata": {},
     "output_type": "execute_result"
    }
   ],
   "source": [
    "matches[0].strip()"
   ]
  }
 ],
 "metadata": {
  "kernelspec": {
   "display_name": "Python 3 (ipykernel)",
   "language": "python",
   "name": "python3"
  },
  "language_info": {
   "codemirror_mode": {
    "name": "ipython",
    "version": 3
   },
   "file_extension": ".py",
   "mimetype": "text/x-python",
   "name": "python",
   "nbconvert_exporter": "python",
   "pygments_lexer": "ipython3",
   "version": "3.8.10"
  }
 },
 "nbformat": 4,
 "nbformat_minor": 5
}
